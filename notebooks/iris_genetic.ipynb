{
 "cells": [
  {
   "cell_type": "markdown",
   "source": [
    "# Required Packages"
   ],
   "metadata": {
    "collapsed": false
   },
   "id": "c7ab328c49025c15"
  },
  {
   "cell_type": "code",
   "execution_count": 1,
   "outputs": [],
   "source": [
    "import random\n",
    "import numpy as np\n",
    "from sklearn.datasets import load_iris"
   ],
   "metadata": {
    "collapsed": false,
    "ExecuteTime": {
     "end_time": "2024-01-25T16:48:47.063218Z",
     "start_time": "2024-01-25T16:48:44.158824100Z"
    }
   },
   "id": "initial_id"
  },
  {
   "cell_type": "markdown",
   "source": [
    "# Load Dataset"
   ],
   "metadata": {
    "collapsed": false
   },
   "id": "761e3339f2939cf5"
  },
  {
   "cell_type": "code",
   "execution_count": 2,
   "outputs": [],
   "source": [
    "iris = load_iris()\n",
    "data = iris.data\n",
    "labels = iris.target"
   ],
   "metadata": {
    "collapsed": false,
    "ExecuteTime": {
     "end_time": "2024-01-25T16:48:47.063218Z",
     "start_time": "2024-01-25T16:48:45.073639900Z"
    }
   },
   "id": "8ede835bb3b01c95"
  },
  {
   "cell_type": "markdown",
   "source": [
    "# Specify Genetic Algorithm Properties "
   ],
   "metadata": {
    "collapsed": false
   },
   "id": "ef7713e9798c4ff8"
  },
  {
   "cell_type": "code",
   "execution_count": 3,
   "outputs": [],
   "source": [
    "k = 3\n",
    "population_size = 50\n",
    "mutation_rate = 0.1\n",
    "selection_size = 20"
   ],
   "metadata": {
    "collapsed": false,
    "ExecuteTime": {
     "end_time": "2024-01-25T16:48:47.063218Z",
     "start_time": "2024-01-25T16:48:45.087997200Z"
    }
   },
   "id": "60df228db95f34bf"
  },
  {
   "cell_type": "markdown",
   "source": [
    "# Evaluation (Objective Function)"
   ],
   "metadata": {
    "collapsed": false
   },
   "id": "a708d7171dfa921c"
  },
  {
   "cell_type": "code",
   "execution_count": 4,
   "outputs": [],
   "source": [
    "def euclidean_distance(point1, point2):\n",
    "    return np.sqrt(np.sum((point1 - point2) ** 2))\n",
    "\n",
    "def evaluate_population(population):\n",
    "    total_distance = 0\n",
    "\n",
    "    for chromosome in population:\n",
    "        clusters = [[] for _ in range(k)]\n",
    "        centroid = []\n",
    "\n",
    "        for point, label in zip(data, chromosome[:-1]):\n",
    "            clusters[label].append(point)\n",
    "\n",
    "        for cluster in clusters:\n",
    "            centroid.append(np.mean(cluster, axis=0))\n",
    "\n",
    "        for cluster, center in zip(clusters, centroid):\n",
    "            for point in cluster:\n",
    "                total_distance += euclidean_distance(point, center)\n",
    "\n",
    "    return total_distance"
   ],
   "metadata": {
    "collapsed": false,
    "ExecuteTime": {
     "end_time": "2024-01-25T16:48:47.063218Z",
     "start_time": "2024-01-25T16:48:45.088508100Z"
    }
   },
   "id": "f89cd5a3a929caee"
  },
  {
   "cell_type": "markdown",
   "source": [
    "# Population Initialization"
   ],
   "metadata": {
    "collapsed": false
   },
   "id": "9ff06b50161c18f1"
  },
  {
   "cell_type": "code",
   "execution_count": 5,
   "outputs": [],
   "source": [
    "def initialize_population(population_size):\n",
    "    population = []\n",
    "\n",
    "    for _ in range(population_size):\n",
    "        chromosome = [random.randint(0, k-1) for _ in range(len(data))]\n",
    "        chromosome.append(k)\n",
    "        population.append(chromosome)\n",
    "\n",
    "    return population"
   ],
   "metadata": {
    "collapsed": false,
    "ExecuteTime": {
     "end_time": "2024-01-25T16:48:47.063218Z",
     "start_time": "2024-01-25T16:48:45.096738900Z"
    }
   },
   "id": "c789e0f37a11ec69"
  },
  {
   "cell_type": "markdown",
   "source": [
    "# Population Selection"
   ],
   "metadata": {
    "collapsed": false
   },
   "id": "59326f81a95a03d8"
  },
  {
   "cell_type": "code",
   "execution_count": 6,
   "outputs": [],
   "source": [
    "def selection(population, selection_size):\n",
    "    fitness = [1 / evaluate_population([chromosome]) for chromosome in population]\n",
    "\n",
    "    selected_indices = np.random.choice(range(len(population)), size=selection_size, replace=False, p=fitness/np.sum(fitness))\n",
    "    selected_population = [population[i] for i in selected_indices]\n",
    "\n",
    "    return selected_population"
   ],
   "metadata": {
    "collapsed": false,
    "ExecuteTime": {
     "end_time": "2024-01-25T16:48:47.063218Z",
     "start_time": "2024-01-25T16:48:45.098079900Z"
    }
   },
   "id": "5d553ee5641660a0"
  },
  {
   "cell_type": "markdown",
   "source": [
    "# Crossover "
   ],
   "metadata": {
    "collapsed": false
   },
   "id": "eb9db0ecc99cd66a"
  },
  {
   "cell_type": "code",
   "execution_count": 7,
   "outputs": [],
   "source": [
    "def crossover(parent1, parent2):\n",
    "    index = random.randint(1, len(parent1) - 2)\n",
    "\n",
    "    child1 = parent1[:index] + parent2[index:]\n",
    "    child2 = parent2[:index] + parent1[index:]\n",
    "\n",
    "    return child1, child2"
   ],
   "metadata": {
    "collapsed": false,
    "ExecuteTime": {
     "end_time": "2024-01-25T16:48:47.063218Z",
     "start_time": "2024-01-25T16:48:45.103734300Z"
    }
   },
   "id": "72acfcd7b5bd1afa"
  },
  {
   "cell_type": "markdown",
   "source": [
    "# Mutation"
   ],
   "metadata": {
    "collapsed": false
   },
   "id": "143f6c8677da184e"
  },
  {
   "cell_type": "code",
   "execution_count": 8,
   "outputs": [],
   "source": [
    "def mutation(child):\n",
    "    mutated_child = []\n",
    "\n",
    "    for gene in child[:-1]:\n",
    "        if random.random() < mutation_rate:\n",
    "            mutated_child.append(random.randint(0, k-1))\n",
    "        else:\n",
    "            mutated_child.append(gene)\n",
    "\n",
    "    mutated_child.append(k)\n",
    "\n",
    "    return mutated_child"
   ],
   "metadata": {
    "collapsed": false,
    "ExecuteTime": {
     "end_time": "2024-01-25T16:48:47.063218Z",
     "start_time": "2024-01-25T16:48:45.112586200Z"
    }
   },
   "id": "a69bd43dd93e6b17"
  },
  {
   "cell_type": "markdown",
   "source": [
    "# Genetic Algorithm function"
   ],
   "metadata": {
    "collapsed": false
   },
   "id": "2dbfa191bf61ac58"
  },
  {
   "cell_type": "code",
   "execution_count": 9,
   "outputs": [],
   "source": [
    "def genetic_algorithm(population_size, selection_size, num_generations):\n",
    "    population = initialize_population(population_size)\n",
    "\n",
    "    for generation in range(num_generations):\n",
    "        print(f\"Generation {generation + 1}\")\n",
    "        print(\"Best distance:\", 1 / min([evaluate_population([chromosome]) for chromosome in population]))\n",
    "\n",
    "        selected_population = selection(population, selection_size)\n",
    "\n",
    "        children = []\n",
    "        for i in range(0, len(selected_population) - 1, 2):\n",
    "            child1, child2 = crossover(selected_population[i], selected_population[i + 1])\n",
    "            children.append(child1)\n",
    "            children.append(child2)\n",
    "\n",
    "        mutated_children = [mutation(child) for child in children]\n",
    "\n",
    "        population = selected_population + mutated_children\n",
    "\n",
    "    best_chromosome = min(population, key=lambda x: evaluate_population([x]))\n",
    "    best_distance = 1 / evaluate_population([best_chromosome])\n",
    "\n",
    "    return best_chromosome, best_distance"
   ],
   "metadata": {
    "collapsed": false,
    "ExecuteTime": {
     "end_time": "2024-01-25T16:48:47.063218Z",
     "start_time": "2024-01-25T16:48:45.116523900Z"
    }
   },
   "id": "95ace5d3898e2144"
  },
  {
   "cell_type": "markdown",
   "source": [
    "# Perform the Model"
   ],
   "metadata": {
    "collapsed": false
   },
   "id": "a0481da33f32484c"
  },
  {
   "cell_type": "code",
   "execution_count": 10,
   "outputs": [
    {
     "name": "stdout",
     "output_type": "stream",
     "text": [
      "Generation 1\n",
      "Best distance: 0.003543343934211077\n",
      "Generation 2\n",
      "Best distance: 0.0035106996686764622\n",
      "Generation 3\n",
      "Best distance: 0.0035106996686764622\n",
      "Generation 4\n",
      "Best distance: 0.0035659025442697475\n",
      "Generation 5\n",
      "Best distance: 0.003539277743317719\n",
      "Generation 6\n",
      "Best distance: 0.0035278245272537213\n",
      "Generation 7\n",
      "Best distance: 0.003547378961687735\n",
      "Generation 8\n",
      "Best distance: 0.0036527570467881003\n",
      "Generation 9\n",
      "Best distance: 0.0036527570467881003\n",
      "Generation 10\n",
      "Best distance: 0.0035696069574637345\n",
      "Generation 11\n",
      "Best distance: 0.0035710188056255134\n",
      "Generation 12\n",
      "Best distance: 0.0035710188056255134\n",
      "Generation 13\n",
      "Best distance: 0.0035710188056255134\n",
      "Generation 14\n",
      "Best distance: 0.0035710188056255134\n",
      "Generation 15\n",
      "Best distance: 0.0035670346754781636\n",
      "Generation 16\n",
      "Best distance: 0.0035670346754781636\n",
      "Generation 17\n",
      "Best distance: 0.0035670346754781636\n",
      "Generation 18\n",
      "Best distance: 0.003574804754983346\n",
      "Generation 19\n",
      "Best distance: 0.003574804754983346\n",
      "Generation 20\n",
      "Best distance: 0.003574804754983346\n",
      "Generation 21\n",
      "Best distance: 0.003547454746286143\n",
      "Generation 22\n",
      "Best distance: 0.003547454746286143\n",
      "Generation 23\n",
      "Best distance: 0.003587661041873152\n",
      "Generation 24\n",
      "Best distance: 0.003576254089028066\n",
      "Generation 25\n",
      "Best distance: 0.0035391211329520336\n",
      "Generation 26\n",
      "Best distance: 0.003577754545859359\n",
      "Generation 27\n",
      "Best distance: 0.003577754545859359\n",
      "Generation 28\n",
      "Best distance: 0.003577754545859359\n",
      "Generation 29\n",
      "Best distance: 0.003577754545859359\n",
      "Generation 30\n",
      "Best distance: 0.0035225997225432873\n",
      "Generation 31\n",
      "Best distance: 0.003596899632855331\n",
      "Generation 32\n",
      "Best distance: 0.003596899632855331\n",
      "Generation 33\n",
      "Best distance: 0.003596899632855331\n",
      "Generation 34\n",
      "Best distance: 0.0035368777882129254\n",
      "Generation 35\n",
      "Best distance: 0.0035448946372816275\n",
      "Generation 36\n",
      "Best distance: 0.0035651579293794426\n",
      "Generation 37\n",
      "Best distance: 0.003509087574175903\n",
      "Generation 38\n",
      "Best distance: 0.0035338792639290676\n",
      "Generation 39\n",
      "Best distance: 0.003545510155432614\n",
      "Generation 40\n",
      "Best distance: 0.003577251478770426\n",
      "Generation 41\n",
      "Best distance: 0.003577251478770426\n",
      "Generation 42\n",
      "Best distance: 0.003512464419587734\n",
      "Generation 43\n",
      "Best distance: 0.0035211462881836616\n",
      "Generation 44\n",
      "Best distance: 0.0035479364488538857\n",
      "Generation 45\n",
      "Best distance: 0.0035479364488538857\n",
      "Generation 46\n",
      "Best distance: 0.0035400557302823713\n",
      "Generation 47\n",
      "Best distance: 0.0035455836855207423\n",
      "Generation 48\n",
      "Best distance: 0.00355301815689049\n",
      "Generation 49\n",
      "Best distance: 0.0035400557302823713\n",
      "Generation 50\n",
      "Best distance: 0.0035943369407659045\n",
      "Generation 51\n",
      "Best distance: 0.0035943369407659045\n",
      "Generation 52\n",
      "Best distance: 0.0035943369407659045\n",
      "Generation 53\n",
      "Best distance: 0.0035943369407659045\n",
      "Generation 54\n",
      "Best distance: 0.0035593159382946546\n",
      "Generation 55\n",
      "Best distance: 0.0035813155731884982\n",
      "Generation 56\n",
      "Best distance: 0.0036024344055656868\n",
      "Generation 57\n",
      "Best distance: 0.0035593159382946546\n",
      "Generation 58\n",
      "Best distance: 0.003537493324208757\n",
      "Generation 59\n",
      "Best distance: 0.0035297053478312514\n",
      "Generation 60\n",
      "Best distance: 0.003540971723995532\n",
      "Generation 61\n",
      "Best distance: 0.0035534881716417837\n",
      "Generation 62\n",
      "Best distance: 0.003566856353392703\n",
      "Generation 63\n",
      "Best distance: 0.003597810247263326\n",
      "Generation 64\n",
      "Best distance: 0.003566856353392703\n",
      "Generation 65\n",
      "Best distance: 0.003566856353392703\n",
      "Generation 66\n",
      "Best distance: 0.0035750768886115207\n",
      "Generation 67\n",
      "Best distance: 0.0035750768886115207\n",
      "Generation 68\n",
      "Best distance: 0.0035750768886115207\n",
      "Generation 69\n",
      "Best distance: 0.003580699268554378\n",
      "Generation 70\n",
      "Best distance: 0.003580699268554378\n",
      "Generation 71\n",
      "Best distance: 0.003580699268554378\n",
      "Generation 72\n",
      "Best distance: 0.0035189654133867382\n",
      "Generation 73\n",
      "Best distance: 0.003538426447015396\n",
      "Generation 74\n",
      "Best distance: 0.003538426447015396\n",
      "Generation 75\n",
      "Best distance: 0.003538426447015396\n",
      "Generation 76\n",
      "Best distance: 0.003503569035529451\n",
      "Generation 77\n",
      "Best distance: 0.003492271904650525\n",
      "Generation 78\n",
      "Best distance: 0.00355541864446817\n",
      "Generation 79\n",
      "Best distance: 0.003503927284169746\n",
      "Generation 80\n",
      "Best distance: 0.003503927284169746\n",
      "Generation 81\n",
      "Best distance: 0.0034856759063264776\n",
      "Generation 82\n",
      "Best distance: 0.00353630535870734\n",
      "Generation 83\n",
      "Best distance: 0.00353630535870734\n",
      "Generation 84\n",
      "Best distance: 0.0035542639390861524\n",
      "Generation 85\n",
      "Best distance: 0.0035542639390861524\n",
      "Generation 86\n",
      "Best distance: 0.0035253367996263578\n",
      "Generation 87\n",
      "Best distance: 0.0035217662983728832\n",
      "Generation 88\n",
      "Best distance: 0.003560921312222173\n",
      "Generation 89\n",
      "Best distance: 0.003561966550829095\n",
      "Generation 90\n",
      "Best distance: 0.003560921312222173\n",
      "Generation 91\n",
      "Best distance: 0.003560921312222173\n",
      "Generation 92\n",
      "Best distance: 0.0035216376244254738\n",
      "Generation 93\n",
      "Best distance: 0.0035821928463184737\n",
      "Generation 94\n",
      "Best distance: 0.0035821928463184737\n",
      "Generation 95\n",
      "Best distance: 0.0035891420894330664\n",
      "Generation 96\n",
      "Best distance: 0.0036485664279065195\n",
      "Generation 97\n",
      "Best distance: 0.003668131206267033\n",
      "Generation 98\n",
      "Best distance: 0.003668131206267033\n",
      "Generation 99\n",
      "Best distance: 0.0037125802875849134\n",
      "Generation 100\n",
      "Best distance: 0.003743859917748121\n",
      "Best chromosome: [2, 2, 1, 0, 0, 0, 1, 0, 1, 1, 1, 0, 2, 0, 0, 0, 0, 1, 0, 0, 0, 1, 1, 1, 2, 2, 1, 2, 1, 1, 0, 2, 1, 1, 0, 0, 0, 1, 2, 1, 0, 1, 0, 0, 0, 0, 1, 0, 1, 0, 1, 2, 2, 2, 2, 2, 1, 0, 2, 1, 0, 1, 1, 1, 1, 2, 2, 2, 1, 2, 2, 1, 1, 2, 2, 0, 0, 1, 1, 2, 2, 0, 1, 2, 0, 1, 2, 0, 2, 0, 2, 2, 1, 1, 2, 2, 1, 1, 0, 0, 0, 2, 2, 2, 0, 2, 1, 2, 2, 2, 0, 1, 2, 2, 1, 0, 0, 0, 1, 2, 2, 2, 1, 2, 2, 1, 1, 2, 2, 2, 2, 1, 2, 0, 1, 0, 1, 1, 0, 1, 2, 2, 1, 1, 2, 1, 1, 1, 0, 2, 3]\n",
      "Best distance: 0.0037125802875849134\n"
     ]
    }
   ],
   "source": [
    "num_generations = 100\n",
    "\n",
    "best_chromosome, best_distance = genetic_algorithm(population_size, selection_size, num_generations)\n",
    "\n",
    "print(\"Best chromosome:\", best_chromosome)\n",
    "print(\"Best distance:\", best_distance)"
   ],
   "metadata": {
    "collapsed": false,
    "ExecuteTime": {
     "end_time": "2024-01-25T16:48:49.490049300Z",
     "start_time": "2024-01-25T16:48:45.125098300Z"
    }
   },
   "id": "da6ccf7c3473159d"
  }
 ],
 "metadata": {
  "kernelspec": {
   "display_name": "Python 3",
   "language": "python",
   "name": "python3"
  },
  "language_info": {
   "codemirror_mode": {
    "name": "ipython",
    "version": 2
   },
   "file_extension": ".py",
   "mimetype": "text/x-python",
   "name": "python",
   "nbconvert_exporter": "python",
   "pygments_lexer": "ipython2",
   "version": "2.7.6"
  }
 },
 "nbformat": 4,
 "nbformat_minor": 5
}
